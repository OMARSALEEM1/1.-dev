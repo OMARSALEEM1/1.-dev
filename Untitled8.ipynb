{
 "cells": [
  {
   "cell_type": "markdown",
   "id": "bd045c61",
   "metadata": {},
   "source": [
    "# 1.Ödev\n",
    "## 1.Q: Program should find whether the taken number is even or odd number"
   ]
  },
  {
   "cell_type": "code",
   "execution_count": 1,
   "id": "54b1f1f6",
   "metadata": {},
   "outputs": [
    {
     "name": "stdout",
     "output_type": "stream",
     "text": [
      "Enter a number pls: 7\n",
      "7 is odd number\n"
     ]
    }
   ],
   "source": [
    "number = int(input(\"Enter a number pls: \"))\n",
    "if number%2==0:\n",
    "    print(\"{} is even number\". format(number))\n",
    "else:\n",
    "    print(\"{} is odd number\". format(number))"
   ]
  },
  {
   "cell_type": "markdown",
   "id": "35527ec1",
   "metadata": {},
   "source": [
    "## 2.Q:  Program should calculate the number's absolute value.\n"
   ]
  },
  {
   "cell_type": "code",
   "execution_count": 9,
   "id": "38b47f71",
   "metadata": {},
   "outputs": [
    {
     "name": "stdout",
     "output_type": "stream",
     "text": [
      "Enter a number pleas: 0\n",
      "The number is zero\n"
     ]
    }
   ],
   "source": [
    "number2 = int(input(\"Enter a number pleas: \"))\n",
    "\n",
    "if number2 > 0:\n",
    "    print(\"The abs of {} is {}\". format(number2,abs(number2)))\n",
    "elif number2 < 0:\n",
    "    print(\"The abs of {} is {}\". format(number2,abs(number2)))\n",
    "else:\n",
    "    print(\"The number is zero\")\n",
    "     "
   ]
  },
  {
   "cell_type": "markdown",
   "id": "1723ece1",
   "metadata": {},
   "source": [
    "## 3.Q: Take grades for midterm and final exam. If grades are not in the interval of 0 and 100, write an error message. If so, calculate the average grade. Then, show the letter grade of average grade.\n",
    "\n",
    "|small limit (<=)|Grade|large limit (>)|Letter grade|\n",
    "|-----|-----|-----|-----|\n",
    "|0|grade|60|F|\n",
    "|60|grade|70|D|\n",
    "|70|grade|80|C|\n",
    "|80|grade|90|B|\n",
    "|90|grade|100|A|"
   ]
  },
  {
   "cell_type": "code",
   "execution_count": 11,
   "id": "a9aefd49",
   "metadata": {},
   "outputs": [
    {
     "name": "stdout",
     "output_type": "stream",
     "text": [
      "Enter the midterm not: 101\n",
      "Enter the final not: 20\n",
      "Error\n"
     ]
    }
   ],
   "source": [
    "mid=int(input(\"Enter the midterm not: \"))\n",
    "final= int(input(\"Enter the final not: \"))\n",
    "average= 0.7*final + 0.3*mid\n",
    "    \n",
    "if mid < 0 or mid > 100 or final < 0 or final > 100:\n",
    "    print(\"Error\")\n",
    "\n",
    "else:\n",
    "    if average>=0 and average<60:\n",
    "        print(\"The average is: {} and the letter grade is F\".format(average))\n",
    "    elif average>=60 and average<70:\n",
    "        print(\"The average is: {} and the letter grade is D\".format(average))\n",
    "    elif average>=70 and average<80:\n",
    "        print(\"The average is: {} and the letter grade is C\".format(average))\n",
    "    elif average>=80 and average<90:\n",
    "        print(\"The average is: {} and the letter grade is B\".format(average))\n",
    "    else:\n",
    "        print(\"The average is: {} and the letter grade is A\".format(average))"
   ]
  },
  {
   "cell_type": "code",
   "execution_count": null,
   "id": "4b65d755",
   "metadata": {},
   "outputs": [],
   "source": []
  }
 ],
 "metadata": {
  "kernelspec": {
   "display_name": "Python 3 (ipykernel)",
   "language": "python",
   "name": "python3"
  },
  "language_info": {
   "codemirror_mode": {
    "name": "ipython",
    "version": 3
   },
   "file_extension": ".py",
   "mimetype": "text/x-python",
   "name": "python",
   "nbconvert_exporter": "python",
   "pygments_lexer": "ipython3",
   "version": "3.9.12"
  }
 },
 "nbformat": 4,
 "nbformat_minor": 5
}
