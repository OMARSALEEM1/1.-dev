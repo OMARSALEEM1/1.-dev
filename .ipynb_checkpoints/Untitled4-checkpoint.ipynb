{
 "cells": [
  {
   "cell_type": "markdown",
   "id": "f69fccc7",
   "metadata": {},
   "source": [
    "# 3. Hafta\n",
    "## karşılaştırma operatörleri \n",
    "|operatör|Anlami|\n",
    "|-----|-----|\n",
    "|<|küçükler|\n",
    "|>|büyükler|\n",
    "|>=|büyük eşit|\n"
   ]
  },
  {
   "cell_type": "code",
   "execution_count": 8,
   "id": "e4f41a55",
   "metadata": {},
   "outputs": [
    {
     "name": "stdout",
     "output_type": "stream",
     "text": [
      "Enter a number: -7\n",
      "negative\n"
     ]
    }
   ],
   "source": [
    "a= int(input (\"Enter a number: \"))\n",
    "if a<0:\n",
    "    print(\"negative\")\n",
    "elif a>0:\n",
    "    print(\"postive\")\n",
    "else:\n",
    "    print(\"sayı sıfırdır\")"
   ]
  },
  {
   "cell_type": "markdown",
   "id": "f2a04ed1",
   "metadata": {},
   "source": [
    "koşu deyimleri sonunda \":\" eklenir ve koşul ile ilgili olan satır girinitli olur"
   ]
  },
  {
   "cell_type": "code",
   "execution_count": 22,
   "id": "61d91322",
   "metadata": {},
   "outputs": [
    {
     "name": "stdout",
     "output_type": "stream",
     "text": [
      "Enter number a: 3\n",
      "Enter number b: 4\n",
      "5.0\n"
     ]
    }
   ],
   "source": [
    "a= int(input(\"Enter number a: \" ))\n",
    "b= int(input(\"Enter number b: \" ))\n",
    "c= (pow(a,2)+pow(b,2))**(0.5)\n",
    "print(c)"
   ]
  },
  {
   "cell_type": "code",
   "execution_count": 16,
   "id": "8c30558b",
   "metadata": {},
   "outputs": [
    {
     "name": "stdout",
     "output_type": "stream",
     "text": [
      "Enter vize: 50\n",
      "Enter final: 50\n",
      "Enter ödev: 50\n",
      "Geçti\n",
      "50.0\n"
     ]
    }
   ],
   "source": [
    "vize= int(input(\"Enter vize: \"))\n",
    "final=int(input(\"Enter final: \"))\n",
    "ödev= int(input(\"Enter ödev: \"))\n",
    "ortalama = vize* 0.3  + final* 0.5 + ödev*0.2\n",
    "\n",
    "if ortalama<50:\n",
    "    print(\"Kaldı\")\n",
    "    print(ortalama)\n",
    "    \n",
    "elif ortalama>50:\n",
    "    print(\"Geçti\")\n",
    "    print(ortalama)\n",
    "\n",
    "else:\n",
    "    print(\"Geçti\")\n",
    "    print(ortalama)\n"
   ]
  },
  {
   "cell_type": "markdown",
   "id": "d7ed1111",
   "metadata": {},
   "source": [
    "## Aritmek operatörleri\n",
    "* \"*\"\n",
    "* \"/\"\n",
    "* \"-\"\n",
    "* \"+\"\n",
    "* \" ** \" küvvet"
   ]
  },
  {
   "cell_type": "code",
   "execution_count": null,
   "id": "d1495061",
   "metadata": {},
   "outputs": [],
   "source": []
  }
 ],
 "metadata": {
  "kernelspec": {
   "display_name": "Python 3 (ipykernel)",
   "language": "python",
   "name": "python3"
  },
  "language_info": {
   "codemirror_mode": {
    "name": "ipython",
    "version": 3
   },
   "file_extension": ".py",
   "mimetype": "text/x-python",
   "name": "python",
   "nbconvert_exporter": "python",
   "pygments_lexer": "ipython3",
   "version": "3.9.12"
  }
 },
 "nbformat": 4,
 "nbformat_minor": 5
}
