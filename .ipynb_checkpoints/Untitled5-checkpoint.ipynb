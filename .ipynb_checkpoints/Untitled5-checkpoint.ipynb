{
 "cells": [
  {
   "cell_type": "markdown",
   "id": "2b357c2a",
   "metadata": {},
   "source": [
    "# 1.Ödev\n",
    "\n",
    "## Program should find whether the taken number is even or odd number.\n"
   ]
  },
  {
   "cell_type": "code",
   "execution_count": 3,
   "id": "4db6b68e",
   "metadata": {},
   "outputs": [
    {
     "name": "stdout",
     "output_type": "stream",
     "text": [
      "Enter a number pleas: 8\n",
      "8 is even number\n"
     ]
    }
   ],
   "source": [
    "number=int(input(\"Enter a number pleas: \"))\n",
    "if number%2==0:\n",
    "    print(\"{} is even number\". format(number))\n",
    "else:\n",
    "    print(\"{} is odd number\". format(number))"
   ]
  },
  {
   "cell_type": "markdown",
   "id": "6c9591dc",
   "metadata": {},
   "source": [
    "## Program should calculate the number's absolute value."
   ]
  },
  {
   "cell_type": "code",
   "execution_count": 6,
   "id": "ef82ff71",
   "metadata": {
    "collapsed": true
   },
   "outputs": [
    {
     "name": "stdout",
     "output_type": "stream",
     "text": [
      "Enter a number pleas: -8\n",
      "The abs of -8 is 8\n"
     ]
    }
   ],
   "source": [
    "number=int(input(\"Enter a number pleas: \"))\n",
    "if number>0:\n",
    "    print(\"The abs of {} is {}\". format(number,abs(number)))\n",
    "elif number<0:\n",
    "    print(\"The abs of {} is {}\". format(number,abs(number)))\n",
    "else:\n",
    "    print(\"The number is zero\")\n",
    "    "
   ]
  },
  {
   "cell_type": "code",
   "execution_count": null,
   "id": "f1cda9af",
   "metadata": {},
   "outputs": [],
   "source": []
  },
  {
   "cell_type": "markdown",
   "id": "e77bc735",
   "metadata": {},
   "source": [
    "# Take grades for midterm and final exam. If grades are not in the interval of 0 and 100, write an error message. If so, calculate the average grade. Then, show the letter grade of average grade.\n",
    "\n",
    "|small limit (<=)|Grade|large limit (>)|Letter grade|\n",
    "|-----|-----|-----|-----|\n",
    "|0|grade|60|F|\n",
    "|60|grade|70|D|\n",
    "|70|grade|80|C|\n",
    "|80|grade|90|B|\n",
    "|90|grade|100|A|"
   ]
  },
  {
   "cell_type": "code",
   "execution_count": 13,
   "id": "d31041e9",
   "metadata": {},
   "outputs": [
    {
     "name": "stdout",
     "output_type": "stream",
     "text": [
      "Enter the midterm not: 70\n",
      "Enter the final not: 20\n",
      "The average is: 35.0 and the letter grade is F\n"
     ]
    }
   ],
   "source": [
    "mid=int(input(\"Enter the midterm not: \"))\n",
    "final= int(input(\"Enter the final not: \"))\n",
    "average= 0.7*final + 0.3*mid\n",
    "\n",
    "if mid < 0 or mid > 100 or final < 0 or final > 100:\n",
    "    print(\"Error\")\n",
    "else:\n",
    "    if average>=0 and average<60:\n",
    "        print(\"The average is: {} and the letter grade is F\".format(average))\n",
    "    \n",
    "    elif average>=60 and average<70:\n",
    "        print(\"The average is: {} and the letter grade is D\".format(average))\n",
    "    \n",
    "    elif average>=70 and average<80:\n",
    "        print(\"The average is: {} and the letter grade is C\".format(average))\n",
    "    \n",
    "    elif average>=80 and average<90:\n",
    "        print(\"The average is: {} and the letter grade is B\".format(average))\n",
    "    \n",
    "    else:\n",
    "        print(\"The average is: {} and the letter grade is A\".format(average))\n",
    "    "
   ]
  },
  {
   "cell_type": "markdown",
   "id": "dc3cf89b",
   "metadata": {},
   "source": []
  },
  {
   "cell_type": "markdown",
   "id": "43ea9005",
   "metadata": {},
   "source": []
  }
 ],
 "metadata": {
  "kernelspec": {
   "display_name": "Python 3 (ipykernel)",
   "language": "python",
   "name": "python3"
  },
  "language_info": {
   "codemirror_mode": {
    "name": "ipython",
    "version": 3
   },
   "file_extension": ".py",
   "mimetype": "text/x-python",
   "name": "python",
   "nbconvert_exporter": "python",
   "pygments_lexer": "ipython3",
   "version": "3.9.12"
  }
 },
 "nbformat": 4,
 "nbformat_minor": 5
}
