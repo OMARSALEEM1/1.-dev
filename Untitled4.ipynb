{
 "cells": [
  {
   "cell_type": "markdown",
   "id": "f69fccc7",
   "metadata": {},
   "source": [
    "# 3. Hafta\n",
    "## karşılaştırma operatörleri \n",
    "|operatör|Anlami|\n",
    "|-----|-----|\n",
    "|<|küçükler|\n",
    "|>|büyükler|\n",
    "|>=|büyük eşit|\n",
    "\n"
   ]
  },
  {
   "cell_type": "code",
   "execution_count": 8,
   "id": "e4f41a55",
   "metadata": {},
   "outputs": [
    {
     "name": "stdout",
     "output_type": "stream",
     "text": [
      "Enter a number: -7\n",
      "negative\n"
     ]
    }
   ],
   "source": [
    "a= int(input (\"Enter a number: \"))\n",
    "if a<0:\n",
    "    print(\"negative\")\n",
    "elif a>0:\n",
    "    print(\"postive\")\n",
    "else:\n",
    "    print(\"sayı sıfırdır\")"
   ]
  },
  {
   "cell_type": "markdown",
   "id": "f2a04ed1",
   "metadata": {},
   "source": [
    "koşu deyimleri sonunda \":\" eklenir ve koşul ile ilgili olan satır girinitli olur"
   ]
  },
  {
   "cell_type": "code",
   "execution_count": 22,
   "id": "61d91322",
   "metadata": {},
   "outputs": [
    {
     "name": "stdout",
     "output_type": "stream",
     "text": [
      "Enter number a: 3\n",
      "Enter number b: 4\n",
      "5.0\n"
     ]
    }
   ],
   "source": [
    "a= int(input(\"Enter number a: \" ))\n",
    "b= int(input(\"Enter number b: \" ))\n",
    "c= (pow(a,2)+pow(b,2))**(0.5)\n",
    "print(c)"
   ]
  },
  {
   "cell_type": "code",
   "execution_count": 16,
   "id": "8c30558b",
   "metadata": {},
   "outputs": [
    {
     "name": "stdout",
     "output_type": "stream",
     "text": [
      "Enter vize: 50\n",
      "Enter final: 50\n",
      "Enter ödev: 50\n",
      "Geçti\n",
      "50.0\n"
     ]
    }
   ],
   "source": [
    "vize= int(input(\"Enter vize: \"))\n",
    "final=int(input(\"Enter final: \"))\n",
    "ödev= int(input(\"Enter ödev: \"))\n",
    "ortalama = vize* 0.3  + final* 0.5 + ödev*0.2\n",
    "\n",
    "if ortalama<50:\n",
    "    print(\"Kaldı\")\n",
    "    print(ortalama)\n",
    "    \n",
    "elif ortalama>50:\n",
    "    print(\"Geçti\")\n",
    "    print(ortalama)\n",
    "\n",
    "else:\n",
    "    print(\"Geçti\")\n",
    "    print(ortalama)\n"
   ]
  },
  {
   "cell_type": "markdown",
   "id": "d7ed1111",
   "metadata": {},
   "source": [
    "## Aritmek operatörleri\n",
    "* \"*\"\n",
    "* \"/\"\n",
    "* \"-\"\n",
    "* \"+\"\n",
    "* \" ** \" küvvet"
   ]
  },
  {
   "cell_type": "markdown",
   "id": "3be15c34",
   "metadata": {},
   "source": [
    "# Hafta 2: Veri tipleri"
   ]
  },
  {
   "cell_type": "markdown",
   "id": "4946e622",
   "metadata": {},
   "source": [
    "## karekter dizleri:"
   ]
  },
  {
   "cell_type": "code",
   "execution_count": 30,
   "id": "0cc0fea9",
   "metadata": {},
   "outputs": [
    {
     "data": {
      "text/plain": [
       "'OMAR İS THE .....'"
      ]
     },
     "execution_count": 30,
     "metadata": {},
     "output_type": "execute_result"
    }
   ],
   "source": [
    "\"OMAR İS THE .....\""
   ]
  },
  {
   "cell_type": "code",
   "execution_count": 32,
   "id": "22e19b1a",
   "metadata": {},
   "outputs": [
    {
     "name": "stdout",
     "output_type": "stream",
     "text": [
      "OMAR\n"
     ]
    }
   ],
   "source": [
    "print(\"OMAR\")"
   ]
  },
  {
   "cell_type": "code",
   "execution_count": 33,
   "id": "5a465987",
   "metadata": {},
   "outputs": [
    {
     "data": {
      "text/plain": [
       "''"
      ]
     },
     "execution_count": 33,
     "metadata": {},
     "output_type": "execute_result"
    }
   ],
   "source": [
    "\"\""
   ]
  },
  {
   "cell_type": "code",
   "execution_count": 34,
   "id": "0c9de225",
   "metadata": {},
   "outputs": [
    {
     "data": {
      "text/plain": [
       "''"
      ]
     },
     "execution_count": 34,
     "metadata": {},
     "output_type": "execute_result"
    }
   ],
   "source": [
    "''"
   ]
  },
  {
   "cell_type": "code",
   "execution_count": 35,
   "id": "5287c4c1",
   "metadata": {},
   "outputs": [
    {
     "data": {
      "text/plain": [
       "' '"
      ]
     },
     "execution_count": 35,
     "metadata": {},
     "output_type": "execute_result"
    }
   ],
   "source": [
    "\" \""
   ]
  },
  {
   "cell_type": "code",
   "execution_count": 36,
   "id": "7c9369c3",
   "metadata": {},
   "outputs": [
    {
     "data": {
      "text/plain": [
       "int"
      ]
     },
     "execution_count": 36,
     "metadata": {},
     "output_type": "execute_result"
    }
   ],
   "source": [
    "type(10)"
   ]
  },
  {
   "cell_type": "code",
   "execution_count": 37,
   "id": "376e6793",
   "metadata": {},
   "outputs": [
    {
     "data": {
      "text/plain": [
       "float"
      ]
     },
     "execution_count": 37,
     "metadata": {},
     "output_type": "execute_result"
    }
   ],
   "source": [
    "type(10.2)"
   ]
  },
  {
   "cell_type": "code",
   "execution_count": 38,
   "id": "3632a551",
   "metadata": {},
   "outputs": [
    {
     "data": {
      "text/plain": [
       "complex"
      ]
     },
     "execution_count": 38,
     "metadata": {},
     "output_type": "execute_result"
    }
   ],
   "source": [
    "type(10+2j)"
   ]
  },
  {
   "cell_type": "code",
   "execution_count": 40,
   "id": "d3efe40e",
   "metadata": {},
   "outputs": [
    {
     "data": {
      "text/plain": [
       "36"
      ]
     },
     "execution_count": 40,
     "metadata": {},
     "output_type": "execute_result"
    }
   ],
   "source": [
    "import keyword\n",
    "yasakliKelimeler=keyword.kwlist\n",
    "len(yasakliKelimeler)\n"
   ]
  },
  {
   "cell_type": "markdown",
   "id": "cdc153fc",
   "metadata": {},
   "source": [
    "|Operatör|Anlamı|\n",
    "|-----|-----|\n",
    "|<|küçüktür|\n",
    "|>|büyüktür|\n",
    "|<=|küçük eşit|\n",
    "|>=|büyük eşit|\n",
    "|==|eşittir|\n",
    "|!=|eşit değildir|\n"
   ]
  },
  {
   "cell_type": "code",
   "execution_count": 42,
   "id": "5e22fbed",
   "metadata": {},
   "outputs": [
    {
     "name": "stdout",
     "output_type": "stream",
     "text": [
      "a sayısını giriniz:4\n",
      "b sayısını giriniz:5\n",
      "büyük sayı: 5 küçük sayı: 4\n"
     ]
    }
   ],
   "source": [
    "a=int(input(\"a sayısını giriniz:\"))\n",
    "b=int(input(\"b sayısını giriniz:\"))\n",
    "\n",
    "if a<b:\n",
    "    print(\"büyük sayı:\",b,\"küçük sayı:\",a)\n",
    "elif a>b:\n",
    "    print(\"büyük sayı:\",a,\"küçük sayı:\",b)\n",
    "else:\n",
    "    print(\"sayılar birbirine eşit\",a,\"=\",b)\n"
   ]
  },
  {
   "cell_type": "code",
   "execution_count": 45,
   "id": "8249a012",
   "metadata": {},
   "outputs": [
    {
     "name": "stdout",
     "output_type": "stream",
     "text": [
      "Kullanıcı adını giriniz:abc\n",
      "Şifrenizi giriniz:123\n",
      "Teşekkürler abc sisteme hoş geldiniz\n"
     ]
    }
   ],
   "source": [
    "kullanici=input(\"Kullanıcı adını giriniz:\")\n",
    "sifre=input(\"Şifrenizi giriniz:\")\n",
    "\n",
    "if not kullanici or not sifre:\n",
    "    print(\"Lütfen kullanıcı adını/şifreyi boş bırakmayınız!!\")\n",
    "elif kullanici==\"abc\" and sifre==\"123\":\n",
    "    print(\"Teşekkürler\",kullanici,\"sisteme hoş geldiniz\")\n",
    "else:\n",
    "    print(\"Kullanıcı adı/şifre yanlış tekrar deneyiniz.\")\n"
   ]
  },
  {
   "cell_type": "code",
   "execution_count": 46,
   "id": "4397b0dc",
   "metadata": {},
   "outputs": [
    {
     "data": {
      "text/plain": [
       "True"
      ]
     },
     "execution_count": 46,
     "metadata": {},
     "output_type": "execute_result"
    }
   ],
   "source": [
    "a=\"bcdef\"\n",
    "\"c\" in a\n"
   ]
  },
  {
   "cell_type": "markdown",
   "id": "30a0fe76",
   "metadata": {},
   "source": []
  },
  {
   "cell_type": "code",
   "execution_count": null,
   "id": "25bd0c9f",
   "metadata": {},
   "outputs": [],
   "source": []
  }
 ],
 "metadata": {
  "kernelspec": {
   "display_name": "Python 3 (ipykernel)",
   "language": "python",
   "name": "python3"
  },
  "language_info": {
   "codemirror_mode": {
    "name": "ipython",
    "version": 3
   },
   "file_extension": ".py",
   "mimetype": "text/x-python",
   "name": "python",
   "nbconvert_exporter": "python",
   "pygments_lexer": "ipython3",
   "version": "3.9.12"
  }
 },
 "nbformat": 4,
 "nbformat_minor": 5
}
