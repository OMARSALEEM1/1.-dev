{
 "cells": [
  {
   "cell_type": "code",
   "execution_count": 1,
   "id": "961d9410",
   "metadata": {},
   "outputs": [
    {
     "name": "stdout",
     "output_type": "stream",
     "text": [
      "omar\n"
     ]
    }
   ],
   "source": [
    "print(\"omar\")"
   ]
  },
  {
   "cell_type": "code",
   "execution_count": 3,
   "id": "75185ddd",
   "metadata": {},
   "outputs": [
    {
     "name": "stdout",
     "output_type": "stream",
     "text": [
      "omar\n"
     ]
    }
   ],
   "source": [
    "print(\"omar\")\n"
   ]
  },
  {
   "cell_type": "code",
   "execution_count": 4,
   "id": "64e00d93",
   "metadata": {},
   "outputs": [
    {
     "name": "stdout",
     "output_type": "stream",
     "text": [
      "omar\n"
     ]
    }
   ],
   "source": [
    "print(\"omar\")"
   ]
  },
  {
   "cell_type": "code",
   "execution_count": null,
   "id": "fa6e7589",
   "metadata": {},
   "outputs": [],
   "source": [
    "\n",
    "\n"
   ]
  },
  {
   "cell_type": "code",
   "execution_count": null,
   "id": "5ceb14c9",
   "metadata": {},
   "outputs": [],
   "source": []
  }
 ],
 "metadata": {
  "kernelspec": {
   "display_name": "Python 3 (ipykernel)",
   "language": "python",
   "name": "python3"
  },
  "language_info": {
   "codemirror_mode": {
    "name": "ipython",
    "version": 3
   },
   "file_extension": ".py",
   "mimetype": "text/x-python",
   "name": "python",
   "nbconvert_exporter": "python",
   "pygments_lexer": "ipython3",
   "version": "3.9.12"
  }
 },
 "nbformat": 4,
 "nbformat_minor": 5
}
